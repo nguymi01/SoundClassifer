{
 "cells": [
  {
   "cell_type": "code",
   "execution_count": null,
   "metadata": {},
   "outputs": [],
   "source": [
    "from keras import layers\n",
    "from keras import models\n",
    "from keras.layers.advanced_activations import LeakyReLU\n",
    "from keras.optimizers import Adam\n",
    "import keras.backend as K\n",
    "import librosa\n",
    "import librosa.display\n",
    "import pylab\n",
    "import matplotlib.pyplot as plt\n",
    "from matplotlib import figure\n",
    "import gc\n",
    "import numpy as np\n",
    "from memory_profiler import memory_usage\n",
    "import numpy as np"
   ]
  },
  {
   "cell_type": "code",
   "execution_count": 1,
   "metadata": {},
   "outputs": [],
   "source": [
    "def spec_gen(filename,dest):\n",
    "    y, sr = librosa.load(filename, sr=None)\n",
    "\n",
    "    mel = librosa.feature.melspectrogram(y=y, sr=sr)\n",
    "    rescale = librosa.power_to_db(mel**2,ref=np.max)\n",
    "    fig = plt.figure(figsize=(1, 1),frameon=False).add_subplot(111)\n",
    "    fig.set_frame_on(False)\n",
    "    \n",
    "    librosa.display.specshow(rescale, sr=sr,x_axis='time', y_axis='log')\n",
    "    fig.axes.get_xaxis().set_visible(False)\n",
    "    fig.axes.get_yaxis().set_visible(False)\n",
    "    plt.savefig(dest, dpi=400, bbox_inches='tight',pad_inches=0)\n",
    "    plt.close('all')    \n",
    "    del fig, y, sr,mel,rescale"
   ]
  }
 ],
 "metadata": {
  "kernelspec": {
   "display_name": "Python 3",
   "language": "python",
   "name": "python3"
  },
  "language_info": {
   "codemirror_mode": {
    "name": "ipython",
    "version": 3
   },
   "file_extension": ".py",
   "mimetype": "text/x-python",
   "name": "python",
   "nbconvert_exporter": "python",
   "pygments_lexer": "ipython3",
   "version": "3.7.6"
  }
 },
 "nbformat": 4,
 "nbformat_minor": 4
}
